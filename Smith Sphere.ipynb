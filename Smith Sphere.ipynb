{
 "metadata": {
  "name": "Smith Sphere",
  "signature": "sha256:8c45990789a15995018ff8c18f0465f863d1839e11cc1475104590a3eb4f2327"
 },
 "nbformat": 3,
 "nbformat_minor": 0,
 "worksheets": [
  {
   "cells": [
    {
     "cell_type": "heading",
     "level": 1,
     "metadata": {},
     "source": "Smith Sphere "
    },
    {
     "cell_type": "markdown",
     "metadata": {},
     "source": "The [smith chart](http://en.wikipedia.org/wiki/Smith_chart) is a nomogram used frequently in RF/Microwave Engineering. Since its inception it has been recognised that projecting the chart onto the reimen sphere [1].\n\n[1]H. . Wheeler, \u201cReflection Charts Relating to Impedance Matching,\u201d IEEE Transactions on Microwave Theory and Techniques, vol. 32, no. 9, pp. 1008\u20131021, Sep. 1984."
    },
    {
     "cell_type": "code",
     "collapsed": false,
     "input": "#from IPython.display import SVG\n#SVG('pics/smith_sphere.svg')",
     "language": "python",
     "metadata": {},
     "outputs": [],
     "prompt_number": 1
    },
    {
     "cell_type": "code",
     "collapsed": false,
     "input": "from ga import Ga\nfrom printer import Format\n\nfrom sympy import * \n\n(ga,er,ex,es) = Ga.build('e_r e_x e_s',g=[1,1,1])\n(gaz,zr,zx) = Ga.build('z_r z_x',g=[1,1])\n\nBz = er^ex # impedance plance \nBs = es^ex # reflection coefficient plane\nBx = er^es\nI = ga.I()\n\ndef down(p, N):\n    '''\n    stereographically project a vector in G3 downto the bivector N\n    '''\n    n= -1*N.dual()\n    return -(n^p)*(n-n*(n|p)).inv() \n\ndef up(p):\n    '''\n    stereographically project a vector in G2 upto the space G3\n    '''\n    if (p^Bz).is_zero():\n        N = Bz\n    elif  (p^Bs).is_zero():\n        N = Bs\n        \n    n = -N.dual()\n    \n    return   n + 2*(p*p + 1).inv()*(p-n)\n    \na,b,c,z,s,n = [ga.mv(k,'vector') for k in ['a','b','c','z','s' ,'n']]",
     "language": "python",
     "metadata": {},
     "outputs": [],
     "prompt_number": 2
    },
    {
     "cell_type": "markdown",
     "metadata": {},
     "source": "\n\nStarting with an impedance vector $z$, defined by a vector in the impedance plane  $B_z$, this vector has two scalar components ( $z^r$, $z^x$) known as resistance and reactance"
    },
    {
     "cell_type": "code",
     "collapsed": false,
     "input": "Bz.dual()",
     "language": "python",
     "metadata": {},
     "outputs": [
      {
       "latex": "\\begin{equation*} - e_{s} \\end{equation*}",
       "metadata": {},
       "output_type": "pyout",
       "prompt_number": 3,
       "text": "-e_s"
      }
     ],
     "prompt_number": 3
    },
    {
     "cell_type": "code",
     "collapsed": false,
     "input": "z = z.proj([er,ex])\nz",
     "language": "python",
     "metadata": {},
     "outputs": [
      {
       "latex": "\\begin{equation*} z^{r} e_{r} + z^{x} e_{x} \\end{equation*}",
       "metadata": {},
       "output_type": "pyout",
       "prompt_number": 4,
       "text": "z__r*e_r + z__x*e_x"
      }
     ],
     "prompt_number": 4
    },
    {
     "cell_type": "markdown",
     "metadata": {},
     "source": "stereographically  up-projecting this onto the sphere to point $p$, "
    },
    {
     "cell_type": "code",
     "collapsed": false,
     "input": "p = up(z).Fmt(3,'p')\np",
     "language": "python",
     "metadata": {},
     "outputs": [
      {
       "latex": " \\begin{align*}   p =& \\frac{2 z^{r}}{{\\left ( z^{r} \\right )}^{2} + {\\left ( z^{x} \\right )}^{2} + 1} e_{r} \\\\  &  + \\frac{2 z^{x}}{{\\left ( z^{r} \\right )}^{2} + {\\left ( z^{x} \\right )}^{2} + 1} e_{x} \\\\  &  + \\frac{{\\left ( z^{r} \\right )}^{2} + {\\left ( z^{x} \\right )}^{2} - 1}{{\\left ( z^{r} \\right )}^{2} + {\\left ( z^{x} \\right )}^{2} + 1} e_{s}  \\end{align*} \n",
       "metadata": {},
       "output_type": "pyout",
       "prompt_number": 5,
       "text": " 2*z__r*e_r/(z__r**2 + z__x**2 + 1)\n + 2*z__x*e_x/(z__r**2 + z__x**2 + 1)\n + (z__r**2 + z__x**2 - 1)*e_s/(z__r**2 + z__x**2 + 1)"
      }
     ],
     "prompt_number": 5
    },
    {
     "cell_type": "code",
     "collapsed": false,
     "input": "p.norm2()",
     "language": "python",
     "metadata": {},
     "outputs": [
      {
       "latex": "\\begin{equation*} 1 \\end{equation*}",
       "metadata": {},
       "output_type": "pyout",
       "prompt_number": 6,
       "text": "1"
      }
     ],
     "prompt_number": 6
    },
    {
     "cell_type": "markdown",
     "metadata": {},
     "source": "If we stereo-project this back onto the impedance plane"
    },
    {
     "cell_type": "code",
     "collapsed": false,
     "input": "down(p, Bz)",
     "language": "python",
     "metadata": {},
     "outputs": [
      {
       "latex": "\\begin{equation*} z^{r} e_{r} + z^{x} e_{x} \\end{equation*}",
       "metadata": {},
       "output_type": "pyout",
       "prompt_number": 7,
       "text": "z__r*e_r + z__x*e_x"
      }
     ],
     "prompt_number": 7
    },
    {
     "cell_type": "code",
     "collapsed": false,
     "input": "down(p,Bs).simplify()",
     "language": "python",
     "metadata": {},
     "outputs": [
      {
       "latex": "\\begin{equation*} \\frac{2 z^{x}}{{\\left ( z^{r} \\right )}^{2} + 2 z^{r} + {\\left ( z^{x} \\right )}^{2} + 1} e_{x} + \\frac{{\\left ( z^{r} \\right )}^{2} + {\\left ( z^{x} \\right )}^{2} - 1}{{\\left ( z^{r} \\right )}^{2} + 2 z^{r} + {\\left ( z^{x} \\right )}^{2} + 1} e_{s} \\end{equation*}",
       "metadata": {},
       "output_type": "pyout",
       "prompt_number": 8,
       "text": "2*z__x*e_x/(z__r**2 + 2*z__r + z__x**2 + 1) + (z__r**2 + z__x**2 - 1)*e_s/(z__r**2 + 2*z__r + z__x**2 + 1)"
      }
     ],
     "prompt_number": 8
    },
    {
     "cell_type": "code",
     "collapsed": false,
     "input": "(z-er)*(z+er).inv()",
     "language": "python",
     "metadata": {},
     "outputs": [
      {
       "latex": "\\begin{equation*} \\frac{{\\left ( z^{r} \\right )}^{2} + {\\left ( z^{x} \\right )}^{2} - 1}{{\\left ( z^{r} \\right )}^{2} + 2 z^{r} + {\\left ( z^{x} \\right )}^{2} + 1}  - \\frac{2 z^{x}}{{\\left ( z^{r} \\right )}^{2} + 2 z^{r} + {\\left ( z^{x} \\right )}^{2} + 1} e_{r}\\wedge e_{x} \\end{equation*}",
       "metadata": {},
       "output_type": "pyout",
       "prompt_number": 9,
       "text": "(z__r**2 + z__x**2 - 1)/(z__r**2 + 2*z__r + z__x**2 + 1) - 2*z__x*e_r^e_x/(z__r**2 + 2*z__r + z__x**2 + 1)"
      }
     ],
     "prompt_number": 9
    },
    {
     "cell_type": "code",
     "collapsed": false,
     "input": "p",
     "language": "python",
     "metadata": {},
     "outputs": [
      {
       "latex": " \\begin{align*}   p =& \\frac{2 z^{r}}{{\\left ( z^{r} \\right )}^{2} + {\\left ( z^{x} \\right )}^{2} + 1} e_{r} \\\\  &  + \\frac{2 z^{x}}{{\\left ( z^{r} \\right )}^{2} + {\\left ( z^{x} \\right )}^{2} + 1} e_{x} \\\\  &  + \\frac{{\\left ( z^{r} \\right )}^{2} + {\\left ( z^{x} \\right )}^{2} - 1}{{\\left ( z^{r} \\right )}^{2} + {\\left ( z^{x} \\right )}^{2} + 1} e_{s}  \\end{align*} \n",
       "metadata": {},
       "output_type": "pyout",
       "prompt_number": 10,
       "text": " 2*z__r*e_r/(z__r**2 + z__x**2 + 1)\n + 2*z__x*e_x/(z__r**2 + z__x**2 + 1)\n + (z__r**2 + z__x**2 - 1)*e_s/(z__r**2 + z__x**2 + 1)"
      }
     ],
     "prompt_number": 10
    },
    {
     "cell_type": "code",
     "collapsed": false,
     "input": "R=((-pi/4)*Bx).exp()\nR",
     "language": "python",
     "metadata": {},
     "outputs": [
      {
       "latex": "\\begin{equation*} \\frac{\\sqrt{2}}{2}  - \\frac{\\sqrt{2}}{2} e_{r}\\wedge e_{s} \\end{equation*}",
       "metadata": {},
       "output_type": "pyout",
       "prompt_number": 11,
       "text": "sqrt(2)/2 - sqrt(2)*e_r^e_s/2"
      }
     ],
     "prompt_number": 11
    },
    {
     "cell_type": "code",
     "collapsed": false,
     "input": "R*p*R.rev()",
     "language": "python",
     "metadata": {},
     "outputs": [
      {
       "latex": "\\begin{equation*} \\frac{- {\\left ( z^{r} \\right )}^{2} - {\\left ( z^{x} \\right )}^{2} + 1}{{\\left ( z^{r} \\right )}^{2} + {\\left ( z^{x} \\right )}^{2} + 1} e_{r} + \\frac{2 z^{x}}{{\\left ( z^{r} \\right )}^{2} + {\\left ( z^{x} \\right )}^{2} + 1} e_{x} + \\frac{2 z^{r}}{{\\left ( z^{r} \\right )}^{2} + {\\left ( z^{x} \\right )}^{2} + 1} e_{s} \\end{equation*}",
       "metadata": {},
       "output_type": "pyout",
       "prompt_number": 12,
       "text": "(-z__r**2 - z__x**2 + 1)*e_r/(z__r**2 + z__x**2 + 1) + 2*z__x*e_x/(z__r**2 + z__x**2 + 1) + 2*z__r*e_s/(z__r**2 + z__x**2 + 1)"
      }
     ],
     "prompt_number": 12
    },
    {
     "cell_type": "code",
     "collapsed": false,
     "input": "down(R*p*R.rev(),Bz)",
     "language": "python",
     "metadata": {},
     "outputs": [
      {
       "latex": "\\begin{equation*} \\frac{- {\\left ( z^{r} \\right )}^{2} - {\\left ( z^{x} \\right )}^{2} + 1}{{\\left ( z^{r} \\right )}^{2} - 2 z^{r} + {\\left ( z^{x} \\right )}^{2} + 1} e_{r} + \\frac{2 z^{x}}{{\\left ( z^{r} \\right )}^{2} - 2 z^{r} + {\\left ( z^{x} \\right )}^{2} + 1} e_{x} \\end{equation*}",
       "metadata": {},
       "output_type": "pyout",
       "prompt_number": 13,
       "text": "(-z__r**2 - z__x**2 + 1)*e_r/(z__r**2 - 2*z__r + z__x**2 + 1) + 2*z__x*e_x/(z__r**2 - 2*z__r + z__x**2 + 1)"
      }
     ],
     "prompt_number": 13
    }
   ],
   "metadata": {}
  }
 ]
}